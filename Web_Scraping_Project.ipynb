{
 "cells": [
  {
   "cell_type": "markdown",
   "id": "6470d24b-207a-4125-ae9d-30158eb7ff29",
   "metadata": {},
   "source": [
    "## Scraping Data from Website + Pandas"
   ]
  },
  {
   "cell_type": "code",
   "execution_count": 2,
   "id": "a42347ca-6a0b-439a-9374-5a8ceec8b578",
   "metadata": {},
   "outputs": [],
   "source": [
    "from bs4 import BeautifulSoup\n",
    "import requests"
   ]
  },
  {
   "cell_type": "code",
   "execution_count": 3,
   "id": "cc8fbce4-0e1f-4859-8c4e-419c36905d0d",
   "metadata": {},
   "outputs": [],
   "source": [
    "# URL de la lista de animes por número de episodios\n",
    "url = \"https://en.wikipedia.org/wiki/List_of_anime_series_by_episode_count\"\n",
    "\n",
    "# Cabecera para evitar el bloqueo del servidor\n",
    "headers = {\n",
    "    \"User-Agent\": \"Mozilla/5.0 (Windows NT 10.0; Win64; x64) \"\n",
    "                  \"AppleWebKit/537.36 (KHTML, like Gecko) \"\n",
    "                  \"Chrome/125.0.0.0 Safari/537.36\"\n",
    "}\n",
    "\n",
    "# Hacer la petición\n",
    "page = requests.get(url, headers=headers)\n",
    "\n",
    "# Crear el objeto BeautifulSoup\n",
    "soup = BeautifulSoup(page.text, \"html\")"
   ]
  },
  {
   "cell_type": "code",
   "execution_count": 3,
   "id": "dcb4645a-dde9-4f52-a575-eb053ecc3d1a",
   "metadata": {},
   "outputs": [],
   "source": [
    "#print(soup)"
   ]
  },
  {
   "cell_type": "code",
   "execution_count": 4,
   "id": "e9c10eda-b7b1-43bd-a673-5a4efb0abcc6",
   "metadata": {},
   "outputs": [],
   "source": [
    "#soup.find_all('table')[1]"
   ]
  },
  {
   "cell_type": "code",
   "execution_count": 5,
   "id": "411a9e41-848a-45c1-a206-af4181fef494",
   "metadata": {},
   "outputs": [],
   "source": [
    "#table = soup.find_all('table')[1]"
   ]
  },
  {
   "cell_type": "code",
   "execution_count": 4,
   "id": "90a73842-de79-4aae-ad50-59a14ac79edb",
   "metadata": {},
   "outputs": [],
   "source": [
    "table = soup.find('table', class_ ='wikitable sortable')"
   ]
  },
  {
   "cell_type": "code",
   "execution_count": 5,
   "id": "9eb0c366-5876-4c41-b225-14159989b36f",
   "metadata": {},
   "outputs": [],
   "source": [
    "headers = [th.text.strip() for th in table.find_all('th')]"
   ]
  },
  {
   "cell_type": "code",
   "execution_count": 6,
   "id": "a82a90c6-bfc2-4e43-a144-84f583f29c17",
   "metadata": {},
   "outputs": [
    {
     "name": "stdout",
     "output_type": "stream",
     "text": [
      "['No.', 'Series title', 'Started broadcasting', 'Finished broadcasting', 'Episode count', 'Runtime']\n"
     ]
    }
   ],
   "source": [
    "print(headers)"
   ]
  },
  {
   "cell_type": "code",
   "execution_count": 7,
   "id": "36598ac3-5d25-4412-b947-8be97139f8ba",
   "metadata": {},
   "outputs": [],
   "source": [
    "import pandas as pd"
   ]
  },
  {
   "cell_type": "code",
   "execution_count": 13,
   "id": "818f1d26-473e-4d9a-995c-d63b4e0666e9",
   "metadata": {},
   "outputs": [],
   "source": [
    "column_data=table.find_all('tr')"
   ]
  },
  {
   "cell_type": "code",
   "execution_count": 15,
   "id": "ffca2ad0-3466-4778-9952-152a4f83bbc4",
   "metadata": {},
   "outputs": [],
   "source": [
    "all_rows = []\n",
    "last_rank = None\n",
    "pending_rowspans = {}  # columna: [valor, filas restantes]\n",
    "\n",
    "for row in column_data:\n",
    "    for sup in row.find_all('sup'):\n",
    "        sup.decompose()\n",
    "\n",
    "    row_cells = row.find_all('td')\n",
    "    cells = []\n",
    "    \n",
    "    # Primero, aplicar valores pendientes por rowspan de filas anteriores\n",
    "    for col_idx in range(len(headers)):\n",
    "        if col_idx in pending_rowspans:\n",
    "            val, remaining = pending_rowspans[col_idx]\n",
    "            cells.append(val)\n",
    "            pending_rowspans[col_idx][1] -= 1\n",
    "            if pending_rowspans[col_idx][1] == 0:\n",
    "                del pending_rowspans[col_idx]\n",
    "        else:\n",
    "            # Si hay una celda nueva para esta columna\n",
    "            if row_cells:\n",
    "                td = row_cells.pop(0)\n",
    "                text = td.get_text(strip=True)\n",
    "                cells.append(text)\n",
    "                \n",
    "                # Si la celda tiene rowspan, guardamos para futuras filas\n",
    "                if td.has_attr('rowspan'):\n",
    "                    pending_rowspans[col_idx] = [text, int(td['rowspan']) - 1]\n",
    "            else:\n",
    "                cells.append('')  # si no hay más celdas, rellenar vacío\n",
    "    \n",
    "    # Manejo del ranking\n",
    "    if cells and cells[0] != '' and cells[0].isdigit():\n",
    "        last_rank = cells[0]\n",
    "    elif cells:\n",
    "        cells[0] = last_rank  # reutilizar último ranking si está vacío\n",
    "    \n",
    "    # Si la fila tiene menos columnas, rellenar\n",
    "    while len(cells) < len(headers):\n",
    "        cells.append('')\n",
    "    \n",
    "    all_rows.append(cells)\n"
   ]
  },
  {
   "cell_type": "code",
   "execution_count": 20,
   "id": "d14315fa-b45f-406a-b336-0ba6d5e4f212",
   "metadata": {},
   "outputs": [],
   "source": [
    "#for r in all_rows:\n",
    "    #print(r)"
   ]
  },
  {
   "cell_type": "code",
   "execution_count": 17,
   "id": "5a3aeaf7-8189-4e15-b124-bc833a006203",
   "metadata": {},
   "outputs": [
    {
     "data": {
      "text/html": [
       "<div>\n",
       "<style scoped>\n",
       "    .dataframe tbody tr th:only-of-type {\n",
       "        vertical-align: middle;\n",
       "    }\n",
       "\n",
       "    .dataframe tbody tr th {\n",
       "        vertical-align: top;\n",
       "    }\n",
       "\n",
       "    .dataframe thead th {\n",
       "        text-align: right;\n",
       "    }\n",
       "</style>\n",
       "<table border=\"1\" class=\"dataframe\">\n",
       "  <thead>\n",
       "    <tr style=\"text-align: right;\">\n",
       "      <th></th>\n",
       "      <th>No.</th>\n",
       "      <th>Series title</th>\n",
       "      <th>Started broadcasting</th>\n",
       "      <th>Finished broadcasting</th>\n",
       "      <th>Episode count</th>\n",
       "      <th>Runtime</th>\n",
       "    </tr>\n",
       "  </thead>\n",
       "  <tbody>\n",
       "    <tr>\n",
       "      <th>0</th>\n",
       "      <td>None</td>\n",
       "      <td></td>\n",
       "      <td></td>\n",
       "      <td></td>\n",
       "      <td></td>\n",
       "      <td></td>\n",
       "    </tr>\n",
       "    <tr>\n",
       "      <th>1</th>\n",
       "      <td>1</td>\n",
       "      <td>Sazae-san</td>\n",
       "      <td>October 5, 1969</td>\n",
       "      <td>Currently in production</td>\n",
       "      <td>2,771</td>\n",
       "      <td>20–26 minutes</td>\n",
       "    </tr>\n",
       "    <tr>\n",
       "      <th>2</th>\n",
       "      <td>2</td>\n",
       "      <td>Nintama Rantarō</td>\n",
       "      <td>April 10, 1993</td>\n",
       "      <td>Currently in production</td>\n",
       "      <td>2,504</td>\n",
       "      <td>10 minutes</td>\n",
       "    </tr>\n",
       "    <tr>\n",
       "      <th>3</th>\n",
       "      <td>3</td>\n",
       "      <td>Ojarumaru</td>\n",
       "      <td>October 5, 1998</td>\n",
       "      <td>Currently in production</td>\n",
       "      <td>2,127</td>\n",
       "      <td>10 minutes</td>\n",
       "    </tr>\n",
       "    <tr>\n",
       "      <th>4</th>\n",
       "      <td>4</td>\n",
       "      <td>Oyako Club</td>\n",
       "      <td>October 3, 1994</td>\n",
       "      <td>March 30, 2013</td>\n",
       "      <td>1,818</td>\n",
       "      <td>5 minutes</td>\n",
       "    </tr>\n",
       "    <tr>\n",
       "      <th>...</th>\n",
       "      <td>...</td>\n",
       "      <td>...</td>\n",
       "      <td>...</td>\n",
       "      <td>...</td>\n",
       "      <td>...</td>\n",
       "      <td>...</td>\n",
       "    </tr>\n",
       "    <tr>\n",
       "      <th>174</th>\n",
       "      <td>118</td>\n",
       "      <td>Aikatsu Stars!</td>\n",
       "      <td>April 7, 2016</td>\n",
       "      <td>March 29, 2018</td>\n",
       "      <td>100</td>\n",
       "      <td>20–26 minutes</td>\n",
       "    </tr>\n",
       "    <tr>\n",
       "      <th>175</th>\n",
       "      <td>118</td>\n",
       "      <td>Coji-Coji</td>\n",
       "      <td>October 4, 1997</td>\n",
       "      <td>September 25, 1999</td>\n",
       "      <td>100</td>\n",
       "      <td>20–26 minutes</td>\n",
       "    </tr>\n",
       "    <tr>\n",
       "      <th>176</th>\n",
       "      <td>118</td>\n",
       "      <td>Dragon Quest: The Adventure of Dai(2020)</td>\n",
       "      <td>October 3, 2020</td>\n",
       "      <td>October 22, 2022</td>\n",
       "      <td>100</td>\n",
       "      <td>20–26 minutes</td>\n",
       "    </tr>\n",
       "    <tr>\n",
       "      <th>177</th>\n",
       "      <td>118</td>\n",
       "      <td>GeGeGe no Kitarō(2007)</td>\n",
       "      <td>April 1, 2007</td>\n",
       "      <td>March 29, 2009</td>\n",
       "      <td>100</td>\n",
       "      <td>20–26 minutes</td>\n",
       "    </tr>\n",
       "    <tr>\n",
       "      <th>178</th>\n",
       "      <td>118</td>\n",
       "      <td>Kirby: Right Back at Ya!</td>\n",
       "      <td>October 6, 2001</td>\n",
       "      <td>September 27, 2003</td>\n",
       "      <td>100</td>\n",
       "      <td>20–26 minutes</td>\n",
       "    </tr>\n",
       "  </tbody>\n",
       "</table>\n",
       "<p>179 rows × 6 columns</p>\n",
       "</div>"
      ],
      "text/plain": [
       "      No.                              Series title Started broadcasting  \\\n",
       "0    None                                                                  \n",
       "1       1                                 Sazae-san      October 5, 1969   \n",
       "2       2                           Nintama Rantarō       April 10, 1993   \n",
       "3       3                                 Ojarumaru      October 5, 1998   \n",
       "4       4                                Oyako Club      October 3, 1994   \n",
       "..    ...                                       ...                  ...   \n",
       "174   118                            Aikatsu Stars!        April 7, 2016   \n",
       "175   118                                 Coji-Coji      October 4, 1997   \n",
       "176   118  Dragon Quest: The Adventure of Dai(2020)      October 3, 2020   \n",
       "177   118                    GeGeGe no Kitarō(2007)        April 1, 2007   \n",
       "178   118                  Kirby: Right Back at Ya!      October 6, 2001   \n",
       "\n",
       "       Finished broadcasting Episode count        Runtime  \n",
       "0                                                          \n",
       "1    Currently in production         2,771  20–26 minutes  \n",
       "2    Currently in production         2,504     10 minutes  \n",
       "3    Currently in production         2,127     10 minutes  \n",
       "4             March 30, 2013         1,818      5 minutes  \n",
       "..                       ...           ...            ...  \n",
       "174           March 29, 2018           100  20–26 minutes  \n",
       "175       September 25, 1999           100  20–26 minutes  \n",
       "176         October 22, 2022           100  20–26 minutes  \n",
       "177           March 29, 2009           100  20–26 minutes  \n",
       "178       September 27, 2003           100  20–26 minutes  \n",
       "\n",
       "[179 rows x 6 columns]"
      ]
     },
     "execution_count": 17,
     "metadata": {},
     "output_type": "execute_result"
    }
   ],
   "source": [
    "df = pd.DataFrame(all_rows, columns=headers)\n",
    "\n",
    "df"
   ]
  },
  {
   "cell_type": "code",
   "execution_count": 19,
   "id": "22ad8ba6-9062-4480-9c4f-b7cb0c75eff3",
   "metadata": {},
   "outputs": [],
   "source": [
    "df.to_csv(r'C:\\Users\\linkm\\Documents\\Python\\Web_Scraping\\Animes.csv',index = False)"
   ]
  },
  {
   "cell_type": "code",
   "execution_count": null,
   "id": "a4983182-d6ba-4653-b760-88d6b91f2ffc",
   "metadata": {},
   "outputs": [],
   "source": []
  }
 ],
 "metadata": {
  "kernelspec": {
   "display_name": "Python [conda env:base] *",
   "language": "python",
   "name": "conda-base-py"
  },
  "language_info": {
   "codemirror_mode": {
    "name": "ipython",
    "version": 3
   },
   "file_extension": ".py",
   "mimetype": "text/x-python",
   "name": "python",
   "nbconvert_exporter": "python",
   "pygments_lexer": "ipython3",
   "version": "3.13.5"
  }
 },
 "nbformat": 4,
 "nbformat_minor": 5
}
